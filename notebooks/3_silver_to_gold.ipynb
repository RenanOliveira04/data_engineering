{
 "cells": [
  {
   "cell_type": "markdown",
   "id": "0c3c0f0b",
   "metadata": {},
   "source": [
    "# Silver para Gold\n",
    "\n",
    "## Arquitetura Medallion - Camada Gold\n",
    "\n",
    "Este script realiza a transformação dos dados da camada Silver para a camada Gold.\n",
    "\n",
    "### Operações realizadas:\n",
    "- Agregação de dados em métricas de negócio\n",
    "- Criação de tabelas fato e dimensão (modelo estrela)\n",
    "- Preparação de datasets analíticos otimizados para consultas\n",
    "- Derivação de KPIs e indicadores chave\n",
    "\n",
    "### Regras da camada Gold:\n",
    "- Dados agregados e prontos para análise\n",
    "- Esquema otimizado para consultas analíticas\n",
    "- Suporte a dashboards e relatórios\n",
    "- Foco na facilidade de uso para analistas"
   ]
  },
  {
   "cell_type": "markdown",
   "id": "65658203",
   "metadata": {},
   "source": [
    "# Importação de bibliotecas"
   ]
  },
  {
   "cell_type": "code",
   "execution_count": 1,
   "id": "57c90b16",
   "metadata": {},
   "outputs": [],
   "source": [
    "import pandas as pd\n",
    "import numpy as np\n",
    "import os\n",
    "import sqlite3\n",
    "from datetime import datetime, timedelta\n",
    "import json"
   ]
  },
  {
   "cell_type": "markdown",
   "id": "1be41228",
   "metadata": {},
   "source": [
    "# Configuração de Diretórios"
   ]
  },
  {
   "cell_type": "code",
   "execution_count": 2,
   "id": "195c267d",
   "metadata": {},
   "outputs": [],
   "source": [
    "BASE_DIR = os.path.abspath(os.path.join(os.getcwd(), '..'))\n",
    "SILVER_DIR = os.path.join(BASE_DIR, 'silver')    \n",
    "GOLD_DIR = os.path.join(BASE_DIR, 'gold')        \n",
    "\n",
    "if not os.path.exists(GOLD_DIR):\n",
    "    os.makedirs(GOLD_DIR)"
   ]
  },
  {
   "cell_type": "markdown",
   "id": "fd5a4eaf",
   "metadata": {},
   "source": [
    "# Conexão com o banco de dados Silver"
   ]
  },
  {
   "cell_type": "code",
   "execution_count": 3,
   "id": "aad7802f",
   "metadata": {},
   "outputs": [
    {
     "name": "stdout",
     "output_type": "stream",
     "text": [
      "Tabelas disponíveis na camada Silver: ['customers', 'orders', 'products', 'order_items', 'order_payments', 'order_reviews', 'sellers']\n"
     ]
    }
   ],
   "source": [
    "silver_db_path = os.path.join(SILVER_DIR, 'silver_layer.db')\n",
    "silver_conn = sqlite3.connect(silver_db_path)\n",
    "\n",
    "gold_db_path = os.path.join(GOLD_DIR, 'gold_layer.db')\n",
    "gold_conn = sqlite3.connect(gold_db_path)\n",
    "\n",
    "tables_query = \"SELECT name FROM sqlite_master WHERE type='table';\"\n",
    "tables = pd.read_sql(tables_query, silver_conn)['name'].tolist()\n",
    "\n",
    "print(f\"Tabelas disponíveis na camada Silver: {tables}\")"
   ]
  },
  {
   "cell_type": "markdown",
   "id": "6cf43909",
   "metadata": {},
   "source": [
    "# Funções auxiliares para transformações Gold"
   ]
  },
  {
   "cell_type": "code",
   "execution_count": 4,
   "id": "6818fc49",
   "metadata": {},
   "outputs": [],
   "source": [
    "def extract_date_dimensions(df, date_column):\n",
    "    \"\"\"Extrai dimensões de data a partir de uma coluna de data.\"\"\"\n",
    "    if date_column not in df.columns or not pd.api.types.is_datetime64_dtype(df[date_column]):\n",
    "        print(f\"Erro: {date_column} não é uma coluna de data válida.\")\n",
    "        return df\n",
    "    \n",
    "    df[f'{date_column}_year'] = df[date_column].dt.year\n",
    "    df[f'{date_column}_month'] = df[date_column].dt.month\n",
    "    df[f'{date_column}_day'] = df[date_column].dt.day\n",
    "    df[f'{date_column}_weekday'] = df[date_column].dt.weekday\n",
    "    df[f'{date_column}_quarter'] = df[date_column].dt.quarter\n",
    "    df[f'{date_column}_week'] = df[date_column].dt.isocalendar().week\n",
    "    \n",
    "    return df\n",
    "\n",
    "def create_time_dimension(start_date, end_date):\n",
    "    \"\"\"Cria uma tabela de dimensão de tempo.\"\"\"\n",
    "    date_range = pd.date_range(start=start_date, end=end_date, freq='D')\n",
    "    \n",
    "    time_dim = pd.DataFrame({\n",
    "        'date_id': date_range,\n",
    "        'date': date_range,\n",
    "        'year': date_range.year,\n",
    "        'quarter': date_range.quarter,\n",
    "        'month': date_range.month,\n",
    "        'month_name': date_range.strftime('%B'),\n",
    "        'week': date_range.isocalendar().week,\n",
    "        'day': date_range.day,\n",
    "        'weekday': date_range.weekday,\n",
    "        'weekday_name': date_range.strftime('%A'),\n",
    "        'is_weekend': date_range.weekday.isin([5, 6]),  \n",
    "    })\n",
    "    \n",
    "    time_dim['fiscal_quarter'] = time_dim['month'].apply(lambda m: ((m-1)//3) + 1)\n",
    "    time_dim['season'] = time_dim['month'].apply(lambda m: \n",
    "                                           'Summer' if m in [6, 7, 8] else\n",
    "                                           'Fall' if m in [9, 10, 11] else\n",
    "                                           'Winter' if m in [12, 1, 2] else 'Spring')\n",
    "    \n",
    "    return time_dim"
   ]
  },
  {
   "cell_type": "markdown",
   "id": "9ddd40b5",
   "metadata": {},
   "source": [
    "# Carregar tabelas necessárias da camada Silver"
   ]
  },
  {
   "cell_type": "code",
   "execution_count": 5,
   "id": "d0bab2fb",
   "metadata": {},
   "outputs": [],
   "source": [
    "orders_df = pd.read_sql(\"SELECT * FROM orders\", silver_conn)\n",
    "order_items_df = pd.read_sql(\"SELECT * FROM order_items\", silver_conn)\n",
    "products_df = pd.read_sql(\"SELECT * FROM products\", silver_conn)\n",
    "customers_df = pd.read_sql(\"SELECT * FROM customers\", silver_conn)\n",
    "sellers_df = pd.read_sql(\"SELECT * FROM sellers\", silver_conn)\n",
    "order_payments_df = pd.read_sql(\"SELECT * FROM order_payments\", silver_conn)\n",
    "reviews_df = pd.read_sql(\"SELECT * FROM order_reviews\", silver_conn)"
   ]
  },
  {
   "cell_type": "markdown",
   "id": "d3c3ddb2",
   "metadata": {},
   "source": [
    "# Converter colunas de data para datetime"
   ]
  },
  {
   "cell_type": "code",
   "execution_count": 6,
   "id": "1606b3ae",
   "metadata": {},
   "outputs": [],
   "source": [
    "date_columns = {\n",
    "    'orders': [col for col in orders_df.columns if 'date' in col],\n",
    "    'order_items': [col for col in order_items_df.columns if 'date' in col],\n",
    "    'reviews': [col for col in reviews_df.columns if 'date' in col]\n",
    "}\n",
    "\n",
    "for col in date_columns['orders']:\n",
    "    orders_df[col] = pd.to_datetime(orders_df[col], errors='coerce')\n",
    "\n",
    "for col in date_columns['order_items']:\n",
    "    order_items_df[col] = pd.to_datetime(order_items_df[col], errors='coerce')\n",
    "\n",
    "for col in date_columns['reviews']:\n",
    "    reviews_df[col] = pd.to_datetime(reviews_df[col], errors='coerce')"
   ]
  },
  {
   "cell_type": "markdown",
   "id": "3efb797d",
   "metadata": {},
   "source": [
    "# 1. Criação de Dimensão de Tempo"
   ]
  },
  {
   "cell_type": "code",
   "execution_count": 7,
   "id": "5968a1a2",
   "metadata": {},
   "outputs": [
    {
     "name": "stdout",
     "output_type": "stream",
     "text": [
      "Tipos antes da conversão:\n",
      "orders_df['order_delivered_carrier_date']: datetime64[ns]\n",
      "orders_df['order_delivered_customer_date']: datetime64[ns]\n",
      "orders_df['order_estimated_delivery_date']: datetime64[ns]\n",
      "order_items_df['shipping_limit_date']: datetime64[ns]\n",
      "Data mínima: 2016-09-04 21:15:19\n",
      "Data mínima: 2016-09-04 21:15:19\n",
      "Data máxima: 2018-11-12 00:00:00\n",
      "Criada dimensão de tempo: 799 linhas\n"
     ]
    }
   ],
   "source": [
    "print(\"Tipos antes da conversão:\")\n",
    "for col in date_columns['orders']:\n",
    "    print(f\"orders_df['{col}']: {orders_df[col].dtype}\")\n",
    "for col in date_columns['order_items']:\n",
    "    print(f\"order_items_df['{col}']: {order_items_df[col].dtype}\")\n",
    "\n",
    "orders_df['order_purchase_timestamp'] = pd.to_datetime(orders_df['order_purchase_timestamp'], errors='coerce')\n",
    "order_items_df['shipping_limit_date'] = pd.to_datetime(order_items_df['shipping_limit_date'], errors='coerce')\n",
    "\n",
    "min_date = min(\n",
    "    orders_df['order_purchase_timestamp'].min(),\n",
    "    order_items_df['shipping_limit_date'].min()\n",
    ")\n",
    "max_date = max(\n",
    "    orders_df['order_delivered_customer_date'].max(),\n",
    "    orders_df['order_estimated_delivery_date'].max()\n",
    ")\n",
    "\n",
    "print(f\"Data mínima: {min_date}\")\n",
    "print(f\"Data mínima: {min_date}\")\n",
    "print(f\"Data máxima: {max_date}\")\n",
    "\n",
    "time_dim = create_time_dimension(min_date, max_date)\n",
    "\n",
    "time_dim.to_sql('dim_time', gold_conn, if_exists='replace', index=False)\n",
    "print(f\"Criada dimensão de tempo: {len(time_dim)} linhas\")"
   ]
  },
  {
   "cell_type": "markdown",
   "id": "5c8e523c",
   "metadata": {},
   "source": [
    "# 2. Criação de Dimensão de Produtos"
   ]
  },
  {
   "cell_type": "code",
   "execution_count": 8,
   "id": "326638fb",
   "metadata": {},
   "outputs": [
    {
     "name": "stdout",
     "output_type": "stream",
     "text": [
      "Criada dimensão de produtos: 32951 linhas\n"
     ]
    }
   ],
   "source": [
    "dim_products = products_df.copy()\n",
    "\n",
    "dim_products['product_volume_cm3'] = dim_products['product_length_cm'] * \\\n",
    "                                    dim_products['product_height_cm'] * \\\n",
    "                                    dim_products['product_width_cm']\n",
    "dim_products['product_is_heavy'] = dim_products['product_weight_g'] > 3000\n",
    "\n",
    "dim_products.to_sql('dim_products', gold_conn, if_exists='replace', index=False)\n",
    "print(f\"Criada dimensão de produtos: {len(dim_products)} linhas\")"
   ]
  },
  {
   "cell_type": "markdown",
   "id": "830982bd",
   "metadata": {},
   "source": [
    "# 3. Criação de Dimensão de Clientes"
   ]
  },
  {
   "cell_type": "code",
   "execution_count": 9,
   "id": "e73a4cf2",
   "metadata": {},
   "outputs": [
    {
     "name": "stdout",
     "output_type": "stream",
     "text": [
      "Criada dimensão de clientes: 99441 linhas\n"
     ]
    }
   ],
   "source": [
    "dim_customers = customers_df.copy()\n",
    "\n",
    "dim_customers.to_sql('dim_customers', gold_conn, if_exists='replace', index=False)\n",
    "\n",
    "print(f\"Criada dimensão de clientes: {len(dim_customers)} linhas\")"
   ]
  },
  {
   "cell_type": "markdown",
   "id": "fe9fb6d9",
   "metadata": {},
   "source": [
    "# 4. Criação de Dimensão de Vendedores"
   ]
  },
  {
   "cell_type": "code",
   "execution_count": 10,
   "id": "6ca46606",
   "metadata": {},
   "outputs": [
    {
     "name": "stdout",
     "output_type": "stream",
     "text": [
      "Criada dimensão de vendedores: 3095 linhas\n"
     ]
    }
   ],
   "source": [
    "dim_sellers = sellers_df.copy()\n",
    "\n",
    "dim_sellers.to_sql('dim_sellers', gold_conn, if_exists='replace', index=False)\n",
    "\n",
    "print(f\"Criada dimensão de vendedores: {len(dim_sellers)} linhas\")"
   ]
  },
  {
   "cell_type": "markdown",
   "id": "32198250",
   "metadata": {},
   "source": [
    "# 5. Criação da Tabela Fato de Vendas"
   ]
  },
  {
   "cell_type": "code",
   "execution_count": 11,
   "id": "c358ae3c",
   "metadata": {},
   "outputs": [
    {
     "name": "stdout",
     "output_type": "stream",
     "text": [
      "Criada tabela fato de vendas: 117604 linhas\n"
     ]
    }
   ],
   "source": [
    "fact_sales = pd.merge(order_items_df, orders_df, on='order_id', how='left')\n",
    "fact_sales = pd.merge(fact_sales, order_payments_df, on='order_id', how='left')\n",
    "fact_sales = pd.merge(fact_sales, customers_df[['customer_id', 'customer_unique_id']], on='customer_id', how='left')\n",
    "\n",
    "fact_sales = extract_date_dimensions(fact_sales, 'order_purchase_timestamp')\n",
    "fact_sales = extract_date_dimensions(fact_sales, 'order_delivered_customer_date')\n",
    "\n",
    "fact_sales.to_sql('fact_sales', gold_conn, if_exists='replace', index=False)\n",
    "print(f\"Criada tabela fato de vendas: {len(fact_sales)} linhas\")"
   ]
  },
  {
   "cell_type": "markdown",
   "id": "e33a5068",
   "metadata": {},
   "source": [
    "# 6. Criação da Tabela Fato de Avaliações"
   ]
  },
  {
   "cell_type": "code",
   "execution_count": 12,
   "id": "a9d15232",
   "metadata": {},
   "outputs": [
    {
     "name": "stdout",
     "output_type": "stream",
     "text": [
      "Criada tabela fato de avaliações: 99224 linhas\n"
     ]
    }
   ],
   "source": [
    "fact_reviews = reviews_df.copy()\n",
    "\n",
    "fact_reviews = pd.merge(fact_reviews, orders_df[['order_id', 'customer_id']], on='order_id', how='left')\n",
    "\n",
    "fact_reviews = extract_date_dimensions(fact_reviews, 'review_creation_date')\n",
    "\n",
    "fact_reviews.to_sql('fact_reviews', gold_conn, if_exists='replace', index=False)\n",
    "print(f\"Criada tabela fato de avaliações: {len(fact_reviews)} linhas\")"
   ]
  },
  {
   "cell_type": "markdown",
   "id": "330f72b2",
   "metadata": {},
   "source": [
    "# 7. Criação de Agregações para Analytics"
   ]
  },
  {
   "cell_type": "markdown",
   "id": "a60749c2",
   "metadata": {},
   "source": [
    "# 7.1. Agregação de vendas por categoria de produto"
   ]
  },
  {
   "cell_type": "code",
   "execution_count": 13,
   "id": "de5911e1",
   "metadata": {},
   "outputs": [
    {
     "name": "stdout",
     "output_type": "stream",
     "text": [
      "Criada agregação de vendas por categoria: 72 linhas\n"
     ]
    }
   ],
   "source": [
    "sales_by_category = fact_sales.merge(\n",
    "    dim_products[['product_id', 'product_category_name', 'product_category_name_english']],\n",
    "    on='product_id', how='left'\n",
    ")\n",
    "\n",
    "sales_by_category_agg = sales_by_category.groupby('product_category_name_english').agg({\n",
    "    'order_id': 'count',\n",
    "    'price': 'sum',\n",
    "    'freight_value': 'sum'\n",
    "}).reset_index()\n",
    "\n",
    "sales_by_category_agg.columns = ['category', 'num_orders', 'total_revenue', 'total_freight']\n",
    "sales_by_category_agg['avg_ticket'] = sales_by_category_agg['total_revenue'] / sales_by_category_agg['num_orders']\n",
    "\n",
    "sales_by_category_agg.to_sql('agg_sales_by_category', gold_conn, if_exists='replace', index=False)\n",
    "print(f\"Criada agregação de vendas por categoria: {len(sales_by_category_agg)} linhas\")"
   ]
  },
  {
   "cell_type": "markdown",
   "id": "744afdeb",
   "metadata": {},
   "source": [
    "# 7.2. Agregação de vendas por tempo"
   ]
  },
  {
   "cell_type": "code",
   "execution_count": 14,
   "id": "f60b7c87",
   "metadata": {},
   "outputs": [
    {
     "name": "stdout",
     "output_type": "stream",
     "text": [
      "Criada agregação de vendas por tempo: 24 linhas\n"
     ]
    }
   ],
   "source": [
    "sales_by_time = fact_sales.groupby(['order_purchase_timestamp_year', 'order_purchase_timestamp_month']).agg({\n",
    "    'order_id': pd.Series.nunique,\n",
    "    'price': 'sum',\n",
    "    'customer_unique_id': pd.Series.nunique\n",
    "}).reset_index()\n",
    "\n",
    "sales_by_time.columns = ['year', 'month', 'num_orders', 'total_revenue', 'num_customers']\n",
    "sales_by_time['avg_ticket'] = sales_by_time['total_revenue'] / sales_by_time['num_orders']\n",
    "sales_by_time['revenue_per_customer'] = sales_by_time['total_revenue'] / sales_by_time['num_customers']\n",
    "\n",
    "sales_by_time.to_sql('agg_sales_by_time', gold_conn, if_exists='replace', index=False)\n",
    "print(f\"Criada agregação de vendas por tempo: {len(sales_by_time)} linhas\")"
   ]
  },
  {
   "cell_type": "markdown",
   "id": "687ab0cc",
   "metadata": {},
   "source": [
    "# 7.3. Agregação de avaliações por categoria"
   ]
  },
  {
   "cell_type": "code",
   "execution_count": 15,
   "id": "166d0115",
   "metadata": {},
   "outputs": [
    {
     "name": "stdout",
     "output_type": "stream",
     "text": [
      "Criada agregação de avaliações por categoria: 72 linhas\n"
     ]
    }
   ],
   "source": [
    "reviews_by_category = fact_reviews.merge(\n",
    "    fact_sales[['order_id', 'product_id']], on='order_id', how='left'\n",
    ").merge(\n",
    "    dim_products[['product_id', 'product_category_name_english']], on='product_id', how='left'\n",
    ")\n",
    "\n",
    "reviews_by_category_agg = reviews_by_category.groupby('product_category_name_english').agg({\n",
    "    'review_id': 'count',\n",
    "    'review_score': 'mean'\n",
    "}).reset_index()\n",
    "\n",
    "reviews_by_category_agg.columns = ['category', 'num_reviews', 'avg_score']\n",
    "reviews_by_category_agg.to_sql('agg_reviews_by_category', gold_conn, if_exists='replace', index=False)\n",
    "print(f\"Criada agregação de avaliações por categoria: {len(reviews_by_category_agg)} linhas\")"
   ]
  },
  {
   "cell_type": "markdown",
   "id": "baf54803",
   "metadata": {},
   "source": [
    "# 7.4. KPIs gerais de vendas"
   ]
  },
  {
   "cell_type": "code",
   "execution_count": 16,
   "id": "22b916a5",
   "metadata": {},
   "outputs": [
    {
     "name": "stdout",
     "output_type": "stream",
     "text": [
      "Criados KPIs gerais de vendas\n",
      "\n",
      "Processamento para camada Gold concluído!\n"
     ]
    }
   ],
   "source": [
    "total_orders = len(orders_df)\n",
    "total_revenue = fact_sales['price'].sum()\n",
    "avg_ticket = total_revenue / total_orders\n",
    "avg_delivery_time = (orders_df['order_delivered_customer_date'] - orders_df['order_purchase_timestamp']).mean().days\n",
    "\n",
    "kpis = pd.DataFrame({\n",
    "    'metric': ['total_orders', 'total_revenue', 'avg_ticket', 'avg_delivery_time_days'],\n",
    "    'value': [total_orders, total_revenue, avg_ticket, avg_delivery_time]\n",
    "}, index=None)\n",
    "\n",
    "kpis.to_sql('kpis_sales', gold_conn, if_exists='replace', index=False)\n",
    "print(\"Criados KPIs gerais de vendas\")\n",
    "\n",
    "silver_conn.close()\n",
    "gold_conn.close()\n",
    "\n",
    "print(\"\\nProcessamento para camada Gold concluído!\")"
   ]
  },
  {
   "cell_type": "markdown",
   "id": "dbf58a81",
   "metadata": {},
   "source": [
    "# Salvar metadados da camada Gold"
   ]
  },
  {
   "cell_type": "code",
   "execution_count": 17,
   "id": "92ab7e10",
   "metadata": {},
   "outputs": [
    {
     "name": "stdout",
     "output_type": "stream",
     "text": [
      "Metadados salvos com sucesso!\n"
     ]
    }
   ],
   "source": [
    "gold_tables = [\n",
    "    'dim_time', 'dim_products', 'dim_customers', 'dim_sellers',\n",
    "    'fact_sales', 'fact_reviews',\n",
    "    'agg_sales_by_category', 'agg_sales_by_time', 'agg_reviews_by_category',\n",
    "    'kpis_sales'\n",
    "]\n",
    "\n",
    "gold_metadata = {\n",
    "    'tables': gold_tables,\n",
    "    'processing_date': datetime.now().isoformat(),\n",
    "    'description': 'Camada Gold - Tabelas dimensionais e fatos para análise de negócio'\n",
    "}\n",
    "\n",
    "with open(os.path.join(GOLD_DIR, 'gold_metadata.json'), 'w') as f:\n",
    "    json.dump(gold_metadata, f, indent=2)\n",
    "\n",
    "print(\"Metadados salvos com sucesso!\")"
   ]
  }
 ],
 "metadata": {
  "kernelspec": {
   "display_name": "Python 3",
   "language": "python",
   "name": "python3"
  },
  "language_info": {
   "codemirror_mode": {
    "name": "ipython",
    "version": 3
   },
   "file_extension": ".py",
   "mimetype": "text/x-python",
   "name": "python",
   "nbconvert_exporter": "python",
   "pygments_lexer": "ipython3",
   "version": "3.13.2"
  }
 },
 "nbformat": 4,
 "nbformat_minor": 5
}
