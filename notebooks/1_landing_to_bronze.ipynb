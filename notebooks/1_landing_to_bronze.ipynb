{
 "cells": [
  {
   "cell_type": "markdown",
   "id": "0c3c0f0b",
   "metadata": {},
   "source": [
    "# Landing Zone para Bronze\n",
    "\n",
    "## Arquitetura Medallion - Camada Bronze\n",
    "\n",
    "Este script realiza a ingestão dos dados brutos da Landing Zone (arquivos CSV originais) para a camada Bronze. \n",
    "\n",
    "### Operações realizadas:\n",
    "- Ingestão dos arquivos CSV brutos da Landing Zone\n",
    "- Validações básicas (schema, tipos de dados)\n",
    "- Adição de metadados (timestamp de ingestão, fonte)\n",
    "- Registro de problemas de qualidade sem correção\n",
    "\n",
    "### Regras da camada Bronze:\n",
    "- Mantém a granularidade original dos dados\n",
    "- Não remove dados inválidos, apenas os marca\n",
    "- Adiciona colunas de controle e auditoria\n",
    "- Foco na completude, não na qualidade"
   ]
  },
  {
   "cell_type": "markdown",
   "id": "65658203",
   "metadata": {},
   "source": [
    "# Importação de bibliotecas"
   ]
  },
  {
   "cell_type": "code",
   "execution_count": 1,
   "id": "57c90b16",
   "metadata": {},
   "outputs": [],
   "source": [
    "import os\n",
    "import glob\n",
    "import json\n",
    "import pandas as pd\n",
    "import sqlite3\n",
    "from datetime import datetime"
   ]
  },
  {
   "cell_type": "markdown",
   "id": "1be41228",
   "metadata": {},
   "source": [
    "# Configuração de Diretórios"
   ]
  },
  {
   "cell_type": "code",
   "execution_count": 2,
   "id": "195c267d",
   "metadata": {},
   "outputs": [],
   "source": [
    "BASE_DIR = os.path.abspath(os.path.join(os.getcwd(), '..'))\n",
    "BRONZE_DIR = os.path.join(BASE_DIR, 'bronze')\n",
    "\n",
    "if not os.path.exists(BRONZE_DIR):\n",
    "    os.makedirs(BRONZE_DIR)"
   ]
  },
  {
   "cell_type": "markdown",
   "id": "fd5a4eaf",
   "metadata": {},
   "source": [
    "# Carregamento dos dados da camada Bronze"
   ]
  },
  {
   "cell_type": "code",
   "execution_count": 3,
   "id": "aad7802f",
   "metadata": {},
   "outputs": [
    {
     "name": "stdout",
     "output_type": "stream",
     "text": [
      "Tabelas disponíveis na camada Bronze: []\n"
     ]
    }
   ],
   "source": [
    "bronze_db_path = os.path.join(BRONZE_DIR, 'bronze_layer.db')\n",
    "conn = sqlite3.connect(bronze_db_path)\n",
    "cursor = conn.cursor()\n",
    "\n",
    "cursor.execute(\"SELECT name FROM sqlite_master WHERE type='table';\")\n",
    "tables = [row[0] for row in cursor.fetchall()]\n",
    "\n",
    "print(f\"Tabelas disponíveis na camada Bronze: {tables}\")\n",
    "\n",
    "conn.close()"
   ]
  },
  {
   "cell_type": "markdown",
   "id": "9ddd40b5",
   "metadata": {},
   "source": [
    "# Carregar Tabelas Bronze"
   ]
  },
  {
   "cell_type": "code",
   "execution_count": 4,
   "id": "d0bab2fb",
   "metadata": {},
   "outputs": [],
   "source": [
    "def ingest_to_bronze(file_path):\n",
    "    \"\"\"Ingestão de dados da landing zone para a camada bronze usando pandas.\"\"\"\n",
    "    file_name = os.path.basename(file_path)\n",
    "    table_name = os.path.splitext(file_name)[0]\n",
    "    \n",
    "    print(f\"Processando {file_name}...\")\n",
    "    \n",
    "    try:\n",
    "        df = pd.read_csv(file_path)\n",
    "        \n",
    "        print(f\"  - Arquivo carregado: {len(df)} linhas, {len(df.columns)} colunas\")\n",
    "        \n",
    "        df['_ingestion_timestamp'] = datetime.now().isoformat()\n",
    "        df['_source_file'] = file_name\n",
    "        df['_source_system'] = 'olist_kaggle'\n",
    "        \n",
    "        null_counts = {col: int(df[col].isnull().sum()) for col in df.columns}\n",
    "        \n",
    "        quality_issues = {\n",
    "            'missing_values': null_counts,\n",
    "        }\n",
    "        \n",
    "        quality_log_path = os.path.join(BRONZE_DIR, f\"{table_name}_quality.json\")\n",
    "        with open(quality_log_path, 'w') as f:\n",
    "            json.dump(quality_issues, f, indent=2)\n",
    "            \n",
    "        print(f\"  - Metadados adicionados\")\n",
    "        print(f\"  - Log de qualidade salvo em {quality_log_path}\")\n",
    "        \n",
    "        bronze_path = os.path.join(BRONZE_DIR, f\"{table_name}.parquet\")\n",
    "        df.to_parquet(bronze_path, index=False)\n",
    "        print(f\"  - Dados salvos na camada bronze: {bronze_path}\")\n",
    "        \n",
    "        return df\n",
    "    \n",
    "    except Exception as e:\n",
    "        print(f\"Erro ao processar {file_name}: {str(e)}\")\n",
    "        return None"
   ]
  },
  {
   "cell_type": "markdown",
   "id": "d3c3ddb2",
   "metadata": {},
   "source": [
    "# Processamento dos Arquivos"
   ]
  },
  {
   "cell_type": "code",
   "execution_count": 5,
   "id": "1606b3ae",
   "metadata": {},
   "outputs": [
    {
     "name": "stdout",
     "output_type": "stream",
     "text": [
      "Arquivos CSV encontrados (8):\n",
      "  - olist_customers_dataset.csv\n",
      "  - olist_orders_dataset.csv\n",
      "  - olist_order_items_dataset.csv\n",
      "  - olist_order_payments_dataset.csv\n",
      "  - olist_order_reviews_dataset.csv\n",
      "  - olist_products_dataset.csv\n",
      "  - olist_sellers_dataset.csv\n",
      "  - product_category_name_translation.csv\n",
      "Processando olist_customers_dataset.csv...\n",
      "  - Arquivo carregado: 99441 linhas, 5 colunas\n",
      "  - Metadados adicionados\n",
      "  - Log de qualidade salvo em c:\\Users\\Renan Oliveira\\Desktop\\data_engineering\\bronze\\olist_customers_dataset_quality.json\n",
      "  - Dados salvos na camada bronze: c:\\Users\\Renan Oliveira\\Desktop\\data_engineering\\bronze\\olist_customers_dataset.parquet\n",
      "  - Dados salvos no SQLite bronze layer: olist_customers_dataset\n",
      "--------------------------------------------------------------------------------\n",
      "Processando olist_orders_dataset.csv...\n",
      "  - Arquivo carregado: 99441 linhas, 8 colunas\n",
      "  - Metadados adicionados\n",
      "  - Log de qualidade salvo em c:\\Users\\Renan Oliveira\\Desktop\\data_engineering\\bronze\\olist_orders_dataset_quality.json\n",
      "  - Dados salvos na camada bronze: c:\\Users\\Renan Oliveira\\Desktop\\data_engineering\\bronze\\olist_orders_dataset.parquet\n",
      "  - Dados salvos no SQLite bronze layer: olist_orders_dataset\n",
      "--------------------------------------------------------------------------------\n",
      "Processando olist_order_items_dataset.csv...\n",
      "  - Arquivo carregado: 112650 linhas, 7 colunas\n",
      "  - Metadados adicionados\n",
      "  - Log de qualidade salvo em c:\\Users\\Renan Oliveira\\Desktop\\data_engineering\\bronze\\olist_order_items_dataset_quality.json\n",
      "  - Dados salvos na camada bronze: c:\\Users\\Renan Oliveira\\Desktop\\data_engineering\\bronze\\olist_order_items_dataset.parquet\n",
      "  - Dados salvos no SQLite bronze layer: olist_order_items_dataset\n",
      "--------------------------------------------------------------------------------\n",
      "Processando olist_order_payments_dataset.csv...\n",
      "  - Arquivo carregado: 103886 linhas, 5 colunas\n",
      "  - Metadados adicionados\n",
      "  - Log de qualidade salvo em c:\\Users\\Renan Oliveira\\Desktop\\data_engineering\\bronze\\olist_order_payments_dataset_quality.json\n",
      "  - Dados salvos na camada bronze: c:\\Users\\Renan Oliveira\\Desktop\\data_engineering\\bronze\\olist_order_payments_dataset.parquet\n",
      "  - Dados salvos no SQLite bronze layer: olist_order_payments_dataset\n",
      "--------------------------------------------------------------------------------\n",
      "Processando olist_order_reviews_dataset.csv...\n",
      "  - Arquivo carregado: 99224 linhas, 7 colunas\n",
      "  - Metadados adicionados\n",
      "  - Log de qualidade salvo em c:\\Users\\Renan Oliveira\\Desktop\\data_engineering\\bronze\\olist_order_reviews_dataset_quality.json\n",
      "  - Dados salvos na camada bronze: c:\\Users\\Renan Oliveira\\Desktop\\data_engineering\\bronze\\olist_order_reviews_dataset.parquet\n",
      "  - Dados salvos no SQLite bronze layer: olist_order_reviews_dataset\n",
      "--------------------------------------------------------------------------------\n",
      "Processando olist_products_dataset.csv...\n",
      "  - Arquivo carregado: 32951 linhas, 9 colunas\n",
      "  - Metadados adicionados\n",
      "  - Log de qualidade salvo em c:\\Users\\Renan Oliveira\\Desktop\\data_engineering\\bronze\\olist_products_dataset_quality.json\n",
      "  - Dados salvos na camada bronze: c:\\Users\\Renan Oliveira\\Desktop\\data_engineering\\bronze\\olist_products_dataset.parquet\n",
      "  - Dados salvos no SQLite bronze layer: olist_products_dataset\n",
      "--------------------------------------------------------------------------------\n",
      "Processando olist_sellers_dataset.csv...\n",
      "  - Arquivo carregado: 3095 linhas, 4 colunas\n",
      "  - Metadados adicionados\n",
      "  - Log de qualidade salvo em c:\\Users\\Renan Oliveira\\Desktop\\data_engineering\\bronze\\olist_sellers_dataset_quality.json\n",
      "  - Dados salvos na camada bronze: c:\\Users\\Renan Oliveira\\Desktop\\data_engineering\\bronze\\olist_sellers_dataset.parquet\n",
      "  - Dados salvos no SQLite bronze layer: olist_sellers_dataset\n",
      "--------------------------------------------------------------------------------\n",
      "Processando product_category_name_translation.csv...\n",
      "  - Arquivo carregado: 71 linhas, 2 colunas\n",
      "  - Metadados adicionados\n",
      "  - Log de qualidade salvo em c:\\Users\\Renan Oliveira\\Desktop\\data_engineering\\bronze\\product_category_name_translation_quality.json\n",
      "  - Dados salvos na camada bronze: c:\\Users\\Renan Oliveira\\Desktop\\data_engineering\\bronze\\product_category_name_translation.parquet\n",
      "  - Dados salvos no SQLite bronze layer: product_category_name_translation\n",
      "--------------------------------------------------------------------------------\n",
      "\n",
      "Processamento concluído! 8 tabelas ingeridas para a camada bronze.\n",
      "\n",
      "Salvando metadados...\n",
      "Metadata salvo com sucesso!\n"
     ]
    }
   ],
   "source": [
    "bronze_tables = {}\n",
    "\n",
    "bronze_db_path = os.path.join(BRONZE_DIR, 'bronze_layer.db')\n",
    "conn = sqlite3.connect(bronze_db_path)\n",
    "\n",
    "DATASET_DIR = os.path.join(BASE_DIR, 'dataset')\n",
    "\n",
    "csv_files = glob.glob(os.path.join(DATASET_DIR, '*.csv'))\n",
    "print(f\"Arquivos CSV encontrados ({len(csv_files)}):\")\n",
    "for csv_file in csv_files:\n",
    "    print(f\"  - {os.path.basename(csv_file)}\")\n",
    "\n",
    "for file_path in csv_files:\n",
    "    table_name = os.path.splitext(os.path.basename(file_path))[0]\n",
    "    df = ingest_to_bronze(file_path)\n",
    "    \n",
    "    if df is not None:\n",
    "        bronze_tables[table_name] = df\n",
    "        \n",
    "        df.to_sql(table_name, conn, if_exists='replace', index=False)\n",
    "        \n",
    "        print(f\"  - Dados salvos no SQLite bronze layer: {table_name}\")\n",
    "    \n",
    "    print(\"--------------------------------------------------------------------------------\")\n",
    "\n",
    "conn.close()\n",
    "print(\"\\nProcessamento concluído! {0} tabelas ingeridas para a camada bronze.\".format(len(bronze_tables)))\n",
    "\n",
    "print(\"\\nSalvando metadados...\")\n",
    "bronze_metadata = {\n",
    "    'tables': list(bronze_tables.keys()),\n",
    "    'row_counts': {table: len(df) for table, df in bronze_tables.items()},\n",
    "    'processing_date': datetime.now().isoformat()\n",
    "}\n",
    "\n",
    "with open(os.path.join(BRONZE_DIR, 'bronze_metadata.json'), 'w') as f:\n",
    "    json.dump(bronze_metadata, f, indent=2)\n",
    "\n",
    "print(\"Metadata salvo com sucesso!\")"
   ]
  }
 ],
 "metadata": {
  "kernelspec": {
   "display_name": "Python 3",
   "language": "python",
   "name": "python3"
  },
  "language_info": {
   "codemirror_mode": {
    "name": "ipython",
    "version": 3
   },
   "file_extension": ".py",
   "mimetype": "text/x-python",
   "name": "python",
   "nbconvert_exporter": "python",
   "pygments_lexer": "ipython3",
   "version": "3.13.2"
  }
 },
 "nbformat": 4,
 "nbformat_minor": 5
}
